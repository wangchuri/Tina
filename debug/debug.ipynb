{
 "cells": [
  {
   "cell_type": "code",
   "execution_count": 12,
   "metadata": {},
   "outputs": [],
   "source": [
    "import tina.core.tools\n",
    "from manage import TinaFolderManager\n",
    "from tina.core.processfiles import fileToTxt\n",
    "from tina.tools.QwenEmbeddings import TextEmbedding\n",
    "import json\n",
    "import faiss\n",
    "import os\n",
    "import numpy as np"
   ]
  },
  {
   "cell_type": "code",
   "execution_count": 13,
   "metadata": {},
   "outputs": [],
   "source": [
    "#处理文件\n",
    "text_dir = 'D:/wangchuri/development/project/tina/tina-sauce----tcgai/testData'\n",
    "filetotxt = fileToTxt(text_dir)\n",
    "project_dir = os.path.join(os.getcwd(), 'TinaSauce')\n",
    "TinaFolderManager.init(project_dir)\n"
   ]
  },
  {
   "cell_type": "code",
   "execution_count": 14,
   "metadata": {},
   "outputs": [
    {
     "name": "stdout",
     "output_type": "stream",
     "text": [
      "d:\\wangchuri\\development\\project\\tina\\tina-sauce----tcgai\\TinaSauce\n",
      "d:\\wangchuri\\development\\project\\tina\\tina-sauce----tcgai\\TinaSauce\\cache.json\n",
      "d:\\wangchuri\\development\\project\\tina\\tina-sauce----tcgai\\TinaSauce\\faiss_index\n"
     ]
    }
   ],
   "source": [
    "print(project_dir)\n",
    "print(TinaFolderManager.getCache())\n",
    "print(TinaFolderManager.getFaissIndex())"
   ]
  },
  {
   "cell_type": "code",
   "execution_count": null,
   "metadata": {},
   "outputs": [],
   "source": []
  },
  {
   "cell_type": "code",
   "execution_count": null,
   "metadata": {},
   "outputs": [],
   "source": [
    "cache = TinaFolderManager.getCache()\n",
    "with open(cache, 'r', encoding='utf-8') as f:\n",
    "    data = json.load(f)\n",
    "print(data[0][\"address\"])\n",
    "em = TextEmbedding()\n",
    "dimensions = 1536\n",
    "#建立索引\n",
    "index = faiss.IndexFlatIP(dimensions)\n",
    "#向量化结果\n",
    "vectors_np = np.array([d[\"embedding\"] for d in data])\n",
    "#索引向量化结果\n",
    "index.add(vectors_np)\n",
    "#查询向量\n",
    "query =\"爸爸嘲笑的说，看吧，不听他的，早知道存着多好。\"\n",
    "query_vector = em.embedding(query)"
   ]
  },
  {
   "cell_type": "code",
   "execution_count": null,
   "metadata": {},
   "outputs": [],
   "source": [
    "query =\"\"\"第一章\"\"\"\n",
    "query_vector = em.embedding(query)\n",
    "query_vector_np = np.array(query_vector).reshape(1, -1)"
   ]
  },
  {
   "cell_type": "code",
   "execution_count": null,
   "metadata": {},
   "outputs": [],
   "source": [
    "D, I = index.search(query_vector_np, 10)\n",
    "print(I)\n"
   ]
  },
  {
   "cell_type": "code",
   "execution_count": null,
   "metadata": {},
   "outputs": [],
   "source": [
    "print(D)"
   ]
  },
  {
   "cell_type": "code",
   "execution_count": null,
   "metadata": {},
   "outputs": [],
   "source": [
    "print(segments[8])"
   ]
  }
 ],
 "metadata": {
  "kernelspec": {
   "display_name": ".conda",
   "language": "python",
   "name": "python3"
  },
  "language_info": {
   "codemirror_mode": {
    "name": "ipython",
    "version": 3
   },
   "file_extension": ".py",
   "mimetype": "text/x-python",
   "name": "python",
   "nbconvert_exporter": "python",
   "pygments_lexer": "ipython3",
   "version": "3.12.7"
  }
 },
 "nbformat": 4,
 "nbformat_minor": 2
}
